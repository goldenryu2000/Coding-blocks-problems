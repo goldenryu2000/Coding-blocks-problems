{
 "cells": [
  {
   "cell_type": "markdown",
   "metadata": {},
   "source": [
    "#Pythagorean Challenge(All test Cases Cleared)"
   ]
  },
  {
   "cell_type": "code",
   "execution_count": 2,
   "metadata": {},
   "outputs": [
    {
     "name": "stdout",
     "output_type": "stream",
     "text": [
      "3\n",
      "1\n",
      "9\n",
      "25\n",
      "(0,1) \n",
      "(0,3) \n",
      "(0,5) (3,4) \n"
     ]
    }
   ],
   "source": [
    "from math import *\n",
    "n = int(input())\n",
    "l=[]\n",
    "for i in range(0,n):\n",
    "    x=int(input())\n",
    "    l.append(x)\n",
    "for i in l:\n",
    "    for a in range(0,int(sqrt(i))+1):\n",
    "        for b in range(0,int(sqrt(i))+1):\n",
    "            if (pow(a,2)+ pow(b,2)) == i and a<=b and i>=0:\n",
    "                print(\"({},{})\" .format(a,b),end = \" \")\n",
    "    print()\n",
    "            "
   ]
  }
 ],
 "metadata": {
  "kernelspec": {
   "display_name": "Python 3",
   "language": "python",
   "name": "python3"
  },
  "language_info": {
   "codemirror_mode": {
    "name": "ipython",
    "version": 3
   },
   "file_extension": ".py",
   "mimetype": "text/x-python",
   "name": "python",
   "nbconvert_exporter": "python",
   "pygments_lexer": "ipython3",
   "version": "3.7.6"
  }
 },
 "nbformat": 4,
 "nbformat_minor": 4
}
