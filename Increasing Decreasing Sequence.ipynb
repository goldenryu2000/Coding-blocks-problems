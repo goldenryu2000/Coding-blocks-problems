{
 "cells": [
  {
   "cell_type": "markdown",
   "metadata": {},
   "source": [
    "#Increasing Decreasing sequence coding blocks(All test cases passed )"
   ]
  },
  {
   "cell_type": "code",
   "execution_count": 5,
   "metadata": {},
   "outputs": [
    {
     "name": "stdout",
     "output_type": "stream",
     "text": [
      "5\n",
      "6\n",
      "10\n",
      "12\n",
      "4\n",
      "2\n",
      "true\n"
     ]
    }
   ],
   "source": [
    "n = int(input())\n",
    "start= int(input())\n",
    "n=n-1\n",
    "inc = 0\n",
    "x = 1\n",
    "while n>0:\n",
    "    a = int(input())\n",
    "    if (a<start and inc==0) or (a>start and inc == 1):\n",
    "        start = a\n",
    "        n=n-1\n",
    "    elif a>start and inc==0:\n",
    "        inc ==1\n",
    "        n=n-1\n",
    "    else:\n",
    "        x = 0\n",
    "        print(\"false\")\n",
    "        break\n",
    "if x==1:\n",
    "    print(\"true\")\n"
   ]
  }
 ],
 "metadata": {
  "kernelspec": {
   "display_name": "Python 3",
   "language": "python",
   "name": "python3"
  },
  "language_info": {
   "codemirror_mode": {
    "name": "ipython",
    "version": 3
   },
   "file_extension": ".py",
   "mimetype": "text/x-python",
   "name": "python",
   "nbconvert_exporter": "python",
   "pygments_lexer": "ipython3",
   "version": "3.7.6"
  }
 },
 "nbformat": 4,
 "nbformat_minor": 4
}
