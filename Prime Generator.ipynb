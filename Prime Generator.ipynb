{
 "cells": [
  {
   "cell_type": "code",
   "execution_count": null,
   "metadata": {},
   "outputs": [],
   "source": [
    "from math import sqrt\n",
    "for _ in range(int(input())):\n",
    "    a,b = map(int,input().split())\n",
    "    num_prime = {}\n",
    "    \n",
    "    for i in range(2,int(sqrt(b)+1)):\n",
    "        for j in range(max(a//i,2),(b//i)+1):\n",
    "            num_prime[i*j] = 1\n",
    "    \n",
    "    for i in range(max(a,2),b+1):\n",
    "        if i not in num_prime:\n",
    "            print(i,end=\" \")\n",
    "    print()   "
   ]
  }
 ],
 "metadata": {
  "kernelspec": {
   "display_name": "Python 3",
   "language": "python",
   "name": "python3"
  },
  "language_info": {
   "codemirror_mode": {
    "name": "ipython",
    "version": 3
   },
   "file_extension": ".py",
   "mimetype": "text/x-python",
   "name": "python",
   "nbconvert_exporter": "python",
   "pygments_lexer": "ipython3",
   "version": "3.7.6"
  }
 },
 "nbformat": 4,
 "nbformat_minor": 4
}
